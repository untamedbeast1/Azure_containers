{
  "nbformat": 4,
  "nbformat_minor": 0,
  "metadata": {
    "colab": {
      "provenance": [],
      "collapsed_sections": [],
      "authorship_tag": "ABX9TyNJxDnl57ZFl2OX0t2pGyCu",
      "include_colab_link": true
    },
    "kernelspec": {
      "name": "python3",
      "display_name": "Python 3"
    },
    "language_info": {
      "name": "python"
    }
  },
  "cells": [
    {
      "cell_type": "markdown",
      "metadata": {
        "id": "view-in-github",
        "colab_type": "text"
      },
      "source": [
        "<a href=\"https://colab.research.google.com/github/untamedbeast1/Azure_containers/blob/main/Copy_of_phone_number_location.ipynb\" target=\"_parent\"><img src=\"https://colab.research.google.com/assets/colab-badge.svg\" alt=\"Open In Colab\"/></a>"
      ]
    },
    {
      "cell_type": "code",
      "source": [
        "pip install phonenumbers\n"
      ],
      "metadata": {
        "colab": {
          "base_uri": "https://localhost:8080/"
        },
        "id": "vsv9UWnYjUMm",
        "outputId": "658c868c-f028-4dcf-85fe-65da2db671c0"
      },
      "execution_count": null,
      "outputs": [
        {
          "output_type": "stream",
          "name": "stdout",
          "text": [
            "Looking in indexes: https://pypi.org/simple, https://us-python.pkg.dev/colab-wheels/public/simple/\n",
            "Requirement already satisfied: phonenumbers in /usr/local/lib/python3.7/dist-packages (8.12.54)\n"
          ]
        }
      ]
    },
    {
      "cell_type": "code",
      "execution_count": null,
      "metadata": {
        "id": "R-UGWF8iiuMM"
      },
      "outputs": [],
      "source": [
        "import phonenumbers"
      ]
    },
    {
      "cell_type": "code",
      "source": [
        "#Import the Geocoders"
      ],
      "metadata": {
        "id": "n7phccnSjxJs"
      },
      "execution_count": null,
      "outputs": []
    },
    {
      "cell_type": "code",
      "source": [
        "from phonenumbers import geocoder"
      ],
      "metadata": {
        "id": "crRYgZYMi2GU"
      },
      "execution_count": null,
      "outputs": []
    },
    {
      "cell_type": "code",
      "source": [
        "#Insert a Phone Number here!"
      ],
      "metadata": {
        "id": "L9GtLAJWj2ou"
      },
      "execution_count": null,
      "outputs": []
    },
    {
      "cell_type": "code",
      "source": [
        "p = input(\"Please insert your phone number with coutry code here:\")"
      ],
      "metadata": {
        "colab": {
          "base_uri": "https://localhost:8080/"
        },
        "id": "5VP7Xopqj-An",
        "outputId": "74fe1c04-0aa7-48c2-fda8-767ea14cb6f9"
      },
      "execution_count": null,
      "outputs": [
        {
          "name": "stdout",
          "output_type": "stream",
          "text": [
            "Please insert your phone number with coutry code here:+2347031103760\n"
          ]
        }
      ]
    },
    {
      "cell_type": "code",
      "source": [
        "phonenumber = phonenumbers.parse(p)"
      ],
      "metadata": {
        "id": "B7Ptj1P6kPJy"
      },
      "execution_count": null,
      "outputs": []
    },
    {
      "cell_type": "code",
      "source": [
        "#Display the location of the phone number"
      ],
      "metadata": {
        "id": "pfgPdintn3ju"
      },
      "execution_count": null,
      "outputs": []
    },
    {
      "cell_type": "code",
      "source": [
        "print(geocoder.description_for_number(phonenumber,'en'))"
      ],
      "metadata": {
        "colab": {
          "base_uri": "https://localhost:8080/"
        },
        "id": "aTLxu5CvmuOR",
        "outputId": "121ceb0e-cbb7-4799-b27f-4aad32ee255b"
      },
      "execution_count": null,
      "outputs": [
        {
          "output_type": "stream",
          "name": "stdout",
          "text": [
            "Nigeria\n"
          ]
        }
      ]
    }
  ]
}